{
 "cells": [
  {
   "cell_type": "code",
   "execution_count": null,
   "metadata": {},
   "outputs": [],
   "source": [
    "# Setup for work\n",
    "#ilość godzin do przepracowania w dany dzień tygodnia\n",
    "working_days = {'poniedzialek': 8,\n",
    "                'wtorek': 4,\n",
    "                'sroda': 4,\n",
    "                'czwartek': 4,\n",
    "                'piatek': 8,\n",
    "                'sobota': 2,\n",
    "                'niedziela': 0\n",
    "                }\n",
    "\n",
    "#ilość godzin dostępnych jakimi dysponują pracownicy\n",
    "working_hours = {'igor': 4,\n",
    "                 'marcin': 4,\n",
    "                 'franek': 9,\n",
    "                 'piotr': 8,\n",
    "                 'ania': 10,\n",
    "                 'zenon': 5\n",
    "                }\n",
    "\n",
    "#ile pracownik zarabia na godzinę\n",
    "money_pool = {'igor_h': 170,\n",
    "             'marcin_h': 60,\n",
    "             'franek_h': 80,\n",
    "             'piotr_h': 200,\n",
    "             'ania_h': 90,\n",
    "             'zenon_h': 90\n",
    "            }\n",
    "\n",
    "# Optimization and pure work part\n",
    "prob = pulp.LpProblem('Cost', pulp.LpMinimize)#funkcja celu, oczywiście minimalizujemy koszty\n",
    "\n",
    "#wprowadzamy już tutaj ograniczenia, tu są nasze zmienne pomocnicze\n",
    "x1 = pulp.LpVariable('igor', lowBound=0, upBound=4, cat='Integer')\n",
    "x2 = pulp.LpVariable('marcin', lowBound=0, upBound=4, cat='Integer')\n",
    "x3 = pulp.LpVariable('franek', lowBound=0, upBound=9, cat='Integer')\n",
    "x4 = pulp.LpVariable('piotr', lowBound=0, upBound=8, cat='Integer')\n",
    "x5 = pulp.LpVariable('ania', lowBound=0, upBound=10, cat='Integer')\n",
    "x6 = pulp.LpVariable('zenon', lowBound=0, upBound=5, cat='Integer')\n",
    "\n",
    "\n",
    "prob += (money_pool['igor_h']*x1 + money_pool['marcin_h']*x2 + money_pool['franek_h']*x3 + \n",
    "         money_pool['piotr_h']*x4 + money_pool['ania_h']*x5 + money_pool['zenon_h']*x6 ) #wymnażamy\n",
    "\n",
    "prob += x1 + x2 + x3 + x4 + x5 + x6 == 30 #ograniczenie, 30 to suma wszystkich potrzebnych do wypracowania godzin\n",
    "         \n",
    "status = prob.solve()\n",
    "list_result = [pulp.value(x1),pulp.value(x2),pulp.value(x3),pulp.value(x4),pulp.value(x5),pulp.value(x6)]\n",
    "employees_names = [x.getName() for x in [x1,x2,x3,x4,x5,x6]] #pobieranie imion\n",
    "user_friendly_output = zip(employees_names, list_result) #tworzymy listę tupli przy pomocy funkcji zip\n",
    "total_cost = sum(map(lambda x,y: x*y, list_result, money_pool.values())) #sumujemy\n",
    "\n",
    "for (_name, _iterator) in user_friendly_output:\n",
    "    print(f'employees: {_name} --> {_iterator}') #wypisujemy\n",
    "\n",
    "print(f'You gotta pay {total_cost} $$$ for this ...') #ile płacimy\n"
   ]
  }
 ],
 "metadata": {
  "kernelspec": {
   "display_name": "Python 3",
   "language": "python",
   "name": "python3"
  },
  "language_info": {
   "codemirror_mode": {
    "name": "ipython",
    "version": 3
   },
   "file_extension": ".py",
   "mimetype": "text/x-python",
   "name": "python",
   "nbconvert_exporter": "python",
   "pygments_lexer": "ipython3",
   "version": "3.6.7"
  }
 },
 "nbformat": 4,
 "nbformat_minor": 2
}
