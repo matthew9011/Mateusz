{
 "cells": [
  {
   "cell_type": "code",
   "execution_count": 6,
   "metadata": {},
   "outputs": [
    {
     "name": "stdout",
     "output_type": "stream",
     "text": [
      "4842734567890\n",
      "cztery - osiem - cztery - dwa - siedem - trzy - cztery - piec - szesc - siedem - osiem - dziewiec - zero\n",
      "Lodz\n"
     ]
    }
   ],
   "source": [
    "# -*- coding: utf-8 -*-\n",
    "\n",
    " \n",
    "class Numerek():\n",
    "    def __init__(self, numer_telefonu):  # konstruktor klasy Numerek\n",
    "        if numer_telefonu[:2] == [4, 8] and len(numer_telefonu) >= 11:  # sprawdza czy zaczyna sie na 48 i ma 11 cyfr\n",
    "            self.numer = numer_telefonu\n",
    "            self.string_numerek = ''.join(map(str, numer_telefonu)) # zamien liste na str [1, 2, 3] -> '123'\n",
    "        else:\n",
    "            raise ValueError(f\"This number {''.join(map(str, numer_telefonu))} is not valid, try again\")  # jezeli podany zostal zly numer, to wypisze że nie poprawny\n",
    "       \n",
    "    def return_number(self): # metoda zwracajaca numer telefonnu\n",
    "        return self.string_numerek\n",
    "   \n",
    "    def return_number_as_words(self): # metoda zwracajaca numer telefonu jako slowa\n",
    "        self.words_dict = {1: 'jeden', 2: 'dwa', 3: 'trzy', 4: 'cztery', 5: 'piec', 6: 'szesc', 7: 'siedem', 8: 'osiem', 9: 'dziewiec', 0: 'zero'}\t#zamiana cyfr na literowe odpowiedniki\n",
    "        self.telefon_number_as_words = ' - '.join(map(str, [ self.words_dict[el] for el in self.numer ])) # stworz liste i zamien ja na str\n",
    "        return self.telefon_number_as_words\n",
    "       \n",
    "    def return_county(self): #sprawdzanie numerów kierunkowych\n",
    "        self.county_dict = {'42': 'Lodz', '71': 'Wroclaw', '22': 'Warszawa', '25': 'Siedlce', '48': 'Radom', '41': 'Kielce', '18': 'Nowy_Sacz', '77': 'Opole', '61': 'Poznan', '62': 'Kalisz', '91': 'Szczecin', '54': 'Wloclawek', '56': 'Torun'} # numery kierunkowe\n",
    "        if len(self.numer) == 11: #sprawdzanie długości numeru\n",
    "            return 'cell phone number'\n",
    "        else:\n",
    "            self.county = self.county_dict[self.string_numerek[2:4]] # znajdz odpowiedznie polaczenie klucz: wartosc\n",
    "            return self.county\n",
    " \n",
    " \n",
    "valid_number = Numerek([4, 8, 4, 2, 7, 3, 4, 5, 6, 7, 8, 9, 0]) # stworz nowy numer poprzez wywolanie kontruktora\n",
    "print(valid_number.return_number())\n",
    "print(valid_number.return_number_as_words()) # wywolaj metode return_number na obiekce valid_number\n",
    "print(valid_number.return_county())"
   ]
  }
 ],
 "metadata": {
  "kernelspec": {
   "display_name": "Python 3",
   "language": "python",
   "name": "python3"
  },
  "language_info": {
   "codemirror_mode": {
    "name": "ipython",
    "version": 3
   },
   "file_extension": ".py",
   "mimetype": "text/x-python",
   "name": "python",
   "nbconvert_exporter": "python",
   "pygments_lexer": "ipython3",
   "version": "3.6.7"
  }
 },
 "nbformat": 4,
 "nbformat_minor": 2
}
