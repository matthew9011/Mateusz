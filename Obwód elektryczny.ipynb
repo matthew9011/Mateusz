{
 "cells": [
  {
   "cell_type": "code",
   "execution_count": null,
   "metadata": {},
   "outputs": [],
   "source": [
    "import pulp\n",
    "IMAX = pulp.LpProblem(\"max prad\",pulp.LpMaximize) #funkcja celu którą będziemy maksymalizować\n",
    "\n",
    "# prądy\n",
    "I1=pulp.LpVariable('I1', lowBound=0, cat='Continuous') # juz tutaj podajemy ograniczenie ze sa nieujemne\n",
    "I2=pulp.LpVariable('I2', lowBound=0, cat='Continuous') \n",
    "I3=pulp.LpVariable('I3', lowBound=0, cat='Continuous') \n",
    "I4=pulp.LpVariable('I4', lowBound=0, cat='Continuous') \n",
    "I= pulp.LpVariable('I', lowBound=0, cat='Continuous') \n",
    " \n",
    "IMAX += I1+I2, \"nasze rozwiazanie\"\n",
    "    \n",
    "#warunki i ograniczenia\n",
    "IMAX += I1*8 == I2*6 \n",
    "IMAX += I3*10 == I4*8\n",
    "IMAX += I1<=2\n",
    "IMAX += I2<=3\n",
    "IMAX += I3<=2\n",
    "IMAX += I4<=2\n",
    "IMAX += I<=4\n",
    "IMAX += I1+I2==I\n",
    "IMAX += I3+I4==I\n",
    "\n",
    "IMAX.solve()\n",
    "\n",
    "for v in IMAX.variables():\n",
    "    print(v.name, \"=\", v.varValue) #printowanie rozwiązania"
   ]
  }
 ],
 "metadata": {
  "kernelspec": {
   "display_name": "Python 3",
   "language": "python",
   "name": "python3"
  },
  "language_info": {
   "codemirror_mode": {
    "name": "ipython",
    "version": 3
   },
   "file_extension": ".py",
   "mimetype": "text/x-python",
   "name": "python",
   "nbconvert_exporter": "python",
   "pygments_lexer": "ipython3",
   "version": "3.6.7"
  }
 },
 "nbformat": 4,
 "nbformat_minor": 2
}
